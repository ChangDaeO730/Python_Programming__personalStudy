{
 "cells": [
  {
   "cell_type": "markdown",
   "metadata": {},
   "source": [
    "# list comprehension"
   ]
  },
  {
   "cell_type": "code",
   "execution_count": 82,
   "metadata": {},
   "outputs": [
    {
     "name": "stdout",
     "output_type": "stream",
     "text": [
      "[0, 1, 2, 3, 4, 5, 6, 7, 8, 9]\n",
      "[0, 2, 4, 6, 8, 10]\n",
      "[0, 2, 4, 6, 8, 10]\n",
      "[0, 2, 4, 6, 8, 10]\n"
     ]
    }
   ],
   "source": [
    "result = [x for x in range(10)] ; print(result)\n",
    "\n",
    "# filtering\n",
    "# save only even\n",
    "result = [x for x in range(0,11,2)]; print(result)\n",
    "result = [x*2 for x in range(0,6)]; print(result)\n",
    "result = [x for x in range(12) if (x%2)==0 ]; print(result)\n"
   ]
  },
  {
   "cell_type": "code",
   "execution_count": 11,
   "metadata": {},
   "outputs": [
    {
     "name": "stdout",
     "output_type": "stream",
     "text": [
      "['THE', 'the', 3]\n",
      "['QUICK', 'quick', 5]\n",
      "['BROWN', 'brown', 5]\n",
      "['FOX', 'fox', 3]\n"
     ]
    }
   ],
   "source": [
    "# 2-d list\n",
    "words = 'the quick brown fox'.split()\n",
    "stuff = [[w.upper(), w.lower(), len(w)] for w in words]\n",
    "for i in stuff:\n",
    "    print(i)"
   ]
  },
  {
   "cell_type": "code",
   "execution_count": 12,
   "metadata": {},
   "outputs": [
    {
     "name": "stdout",
     "output_type": "stream",
     "text": [
      "['ad', 'ae', 'aa', 'bd', 'be', 'ba', 'cd', 'ce', 'ca']\n",
      "[['ad', 'bd', 'cd'], ['ae', 'be', 'ce'], ['aa', 'ba', 'ca']]\n"
     ]
    }
   ],
   "source": [
    "# distinguish (overlapping loop VS 2-d list)\n",
    "case_1 = ['a','b','c']\n",
    "case_2 = ['d','e','a']\n",
    "\n",
    "print([i+j for i in case_1 for j in case_2])\n",
    "print([[i+j for i in case_1] for j in case_2])"
   ]
  },
  {
   "cell_type": "code",
   "execution_count": 14,
   "metadata": {},
   "outputs": [
    {
     "name": "stdout",
     "output_type": "stream",
     "text": [
      "time (loop) : 0.0\n",
      "time (compre) : 0.0\n"
     ]
    }
   ],
   "source": [
    "import time\n",
    "\n",
    "# vector - scalar product\n",
    "scalar = 2\n",
    "vector = list(range(1000))\n",
    "\n",
    "start = time.time() \n",
    "\n",
    "def vec_sca_prod(vector, scalar):\n",
    "    result = []\n",
    "    for i in vector:\n",
    "        result.append(scalar * i)\n",
    "    return result\n",
    "a = vec_sca_prod(vector, scalar)\n",
    "\n",
    "print(\"time (loop) :\",time.time() - start)\n",
    "\n",
    "#################\n",
    "\n",
    "start = time.time() \n",
    "\n",
    "a = [scalar * v for v in vector]\n",
    "\n",
    "print(\"time (compre) :\",time.time() - start)"
   ]
  },
  {
   "cell_type": "markdown",
   "metadata": {},
   "source": [
    "# Various ways to print values from list"
   ]
  },
  {
   "cell_type": "code",
   "execution_count": 17,
   "metadata": {},
   "outputs": [
    {
     "name": "stdout",
     "output_type": "stream",
     "text": [
      "0 a\n",
      "1 b\n",
      "2 c\n"
     ]
    },
    {
     "data": {
      "text/plain": [
       "{0: 'teamLAB', 1: 'is', 2: 'an', 3: 'academic', 4: 'institute.'}"
      ]
     },
     "execution_count": 17,
     "metadata": {},
     "output_type": "execute_result"
    }
   ],
   "source": [
    "# append index to value : enumerate\n",
    "for i, v in enumerate(['a','b','c']): # unpacking the (index & value) in list\n",
    "    print(i, v)\n",
    "\n",
    "# using enumerate() with dictionary comprehension\n",
    "{i:j for i,j in enumerate('teamLAB is an academic institute.'.split())}"
   ]
  },
  {
   "cell_type": "code",
   "execution_count": 24,
   "metadata": {},
   "outputs": [
    {
     "name": "stdout",
     "output_type": "stream",
     "text": [
      "[111, 222, 333]\n",
      "0 a1 b1\n",
      "1 a2 b2\n",
      "2 a3 b3\n"
     ]
    }
   ],
   "source": [
    "# zip : a function that binds elements in parallel\n",
    "# take 2 iterative objects those have same length\n",
    "\n",
    "# vector addition\n",
    "print( [sum(x) for x in zip([1,2,3], [10,20,30], [100,200,300])] )\n",
    "\n",
    "# enumerate & zip\n",
    "alist = ['a1','a2','a3']\n",
    "blist = ['b1','b2','b3']\n",
    "\n",
    "for i,(a,b) in enumerate(zip(alist,blist)):\n",
    "    print(i, a, b)"
   ]
  },
  {
   "cell_type": "markdown",
   "metadata": {},
   "source": [
    "# lambda function"
   ]
  },
  {
   "cell_type": "code",
   "execution_count": 26,
   "metadata": {},
   "outputs": [
    {
     "name": "stdout",
     "output_type": "stream",
     "text": [
      "3\n",
      "3\n",
      "3\n"
     ]
    }
   ],
   "source": [
    "def f1(x, y):\n",
    "    return x + y\n",
    "\n",
    "# lambda (parameters) : (expression about return value)\n",
    "f2 = lambda x,y : x+y\n",
    "\n",
    "print(f1(1,2))\n",
    "print(f2(1,2))\n",
    "\n",
    "# another way to express lambda func\n",
    "print((lambda x:x+1)(2))\n",
    "\n",
    "# lambda expression can used with many other function such as apply, map,..."
   ]
  },
  {
   "cell_type": "code",
   "execution_count": 34,
   "metadata": {},
   "outputs": [
    {
     "name": "stdout",
     "output_type": "stream",
     "text": [
      "[1, 4, 9, 16]\n",
      "[1, 4, 9, 16]\n",
      "[6, 6, 6, 6, 6]\n",
      "[6, 6, 6, 6, 6]\n",
      "[1, 4, 3, 16, 5]\n",
      "[1, 4, 3, 16, 5]\n"
     ]
    }
   ],
   "source": [
    "# map() : applying same function to all elements in sequence type object\n",
    "ex = [1,2,3,4]\n",
    "f = lambda x:x**2\n",
    "print(list(map(f, ex)))\n",
    "\n",
    "# same result by list comprehension (recommended)\n",
    "ex = [1,2,3,4]\n",
    "print([x**2 for x in ex])\n",
    "\n",
    "# multiple sequence processing\n",
    "ex = [1,2,3,4,5]\n",
    "ex2 = [5,4,3,2,1]\n",
    "\n",
    "f = lambda x,y : x+y\n",
    "print(list(map(f,ex,ex2)))\n",
    "\n",
    "print([x+y for x,y in zip(ex,ex2)])\n",
    "\n",
    "# filtering with lambda\n",
    "print(list(map(lambda x:x**2 if x%2 == 0 else x, ex)))\n",
    "print([x**2 if x%2 == 0 else x for x in ex])"
   ]
  },
  {
   "cell_type": "code",
   "execution_count": 40,
   "metadata": {},
   "outputs": [
    {
     "name": "stdout",
     "output_type": "stream",
     "text": [
      "90\n",
      "90\n"
     ]
    }
   ],
   "source": [
    "# reduce function\n",
    "from functools import reduce\n",
    "ex = [{'age':50},{'age':15},{'age':25}]\n",
    "ex2 = [50,15,25]\n",
    "\n",
    "print(reduce(lambda acc, cur : acc + cur['age'], ex, 0))\n",
    "print(reduce(lambda x, y : x+y, ex2))"
   ]
  },
  {
   "cell_type": "markdown",
   "metadata": {},
   "source": [
    "# Asterisk (*)"
   ]
  },
  {
   "cell_type": "code",
   "execution_count": 43,
   "metadata": {},
   "outputs": [
    {
     "name": "stdout",
     "output_type": "stream",
     "text": [
      "1 (2, 3, 4)\n",
      "<class 'tuple'>\n",
      "1 2 3 4\n",
      "<class 'tuple'>\n",
      "[1, 2] [3, 4] [5, 6]\n",
      "[1, 2] [3, 4] [5, 6]\n"
     ]
    }
   ],
   "source": [
    "# for packing\n",
    "def ast_test(a, *args):\n",
    "    print(a, args)\n",
    "    print(type(args))\n",
    "    \n",
    "ast_test(1,2,3,4)\n",
    "\n",
    "# for unpacking\n",
    "def ast_test(a, args):\n",
    "    print(a, *args)\n",
    "    print(type(args))\n",
    "    \n",
    "ast_test(1,(2,3,4))\n",
    "\n",
    "\n",
    "a,b,c = ([1,2],[3,4],[5,6])\n",
    "print(a,b,c)\n",
    "data = ([1,2],[3,4],[5,6])\n",
    "print(*data)"
   ]
  },
  {
   "cell_type": "code",
   "execution_count": 51,
   "metadata": {},
   "outputs": [
    {
     "data": {
      "text/plain": [
       "[80, 85, 82]"
      ]
     },
     "execution_count": 51,
     "metadata": {},
     "output_type": "execute_result"
    }
   ],
   "source": [
    "# applied unpacking\n",
    "# average score by subject\n",
    "samp = [[80,92,100], [73,100,52], [88,65,95]]\n",
    "\n",
    "[int((a+b+c)/3) for a,b,c in zip(*samp)]"
   ]
  },
  {
   "cell_type": "markdown",
   "metadata": {},
   "source": [
    "# Linear Algebra"
   ]
  },
  {
   "cell_type": "code",
   "execution_count": 57,
   "metadata": {},
   "outputs": [
    {
     "name": "stdout",
     "output_type": "stream",
     "text": [
      "([13, 2, 4], [2, 11, 2], [0, 13, 10])\n"
     ]
    },
    {
     "data": {
      "text/plain": [
       "[15, 26, 16]"
      ]
     },
     "execution_count": 57,
     "metadata": {},
     "output_type": "execute_result"
    }
   ],
   "source": [
    "# x = [2,2]; y = [3,1]; z = [0,6]\n",
    "\n",
    "# addition of three vectors\n",
    "# print([sum(r) for r in zip(x,y,z)]) # r is tuple type\n",
    "\n",
    "# functionizing by using (*)\n",
    "def vector_addition(*args):\n",
    "    print(args) # packing all parameters in tuple\n",
    "    return [sum(x) for x in zip(*args)] # unpacking the tuple into individual elements\n",
    "\n",
    "vector_addition([13,2,4],[2,11,2],[0,13,10])"
   ]
  },
  {
   "cell_type": "code",
   "execution_count": 84,
   "metadata": {},
   "outputs": [
    {
     "name": "stdout",
     "output_type": "stream",
     "text": [
      "[[3, 6], [7, 12]]\n",
      "[[1, 3], [2, 4]]\n",
      "[[9, 12], [18, 24]]\n"
     ]
    }
   ],
   "source": [
    "# matrix addition\n",
    "mat_a = [[1,2],[3,4]]\n",
    "mat_b = [[2,4],[4,8]]\n",
    "\n",
    "a_add_b = [[sum(zp) for zp in zip(*z)] for z in zip(mat_a, mat_b)]\n",
    "print(a_add_b)\n",
    "\n",
    "# matrix transpose\n",
    "at = [[a,b] for a,b in zip(*mat_a)] \n",
    "print(at)\n",
    "\n",
    "# matrix multiplication\n",
    "mat_a = [[1,1,1],[2,2,2]]\n",
    "mat_b = [[1,2],[3,4],[5,6]]\n",
    "\n",
    "a_mul_b = [[ sum( a*b for a,b in zip(row_a,col_b))  \\\n",
    "            for col_b in zip(*mat_b)] for row_a in mat_a]\n",
    "print(a_mul_b)"
   ]
  },
  {
   "cell_type": "code",
   "execution_count": null,
   "metadata": {},
   "outputs": [],
   "source": []
  }
 ],
 "metadata": {
  "kernelspec": {
   "display_name": "Python 3",
   "language": "python",
   "name": "python3"
  },
  "language_info": {
   "codemirror_mode": {
    "name": "ipython",
    "version": 3
   },
   "file_extension": ".py",
   "mimetype": "text/x-python",
   "name": "python",
   "nbconvert_exporter": "python",
   "pygments_lexer": "ipython3",
   "version": "3.7.6"
  }
 },
 "nbformat": 4,
 "nbformat_minor": 4
}
